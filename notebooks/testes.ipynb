{
 "cells": [
  {
   "cell_type": "code",
   "execution_count": 5,
   "metadata": {},
   "outputs": [],
   "source": [
    "# !python -m pip install requests"
   ]
  },
  {
   "cell_type": "code",
   "execution_count": 6,
   "metadata": {},
   "outputs": [
    {
     "name": "stdout",
     "output_type": "stream",
     "text": [
      "\"Model API is alive!\"\n"
     ]
    }
   ],
   "source": [
    "import requests as req\n",
    "\n",
    "print(req.get(\"http://localhost:8900/\").text)"
   ]
  },
  {
   "cell_type": "code",
   "execution_count": 7,
   "metadata": {},
   "outputs": [
    {
     "name": "stdout",
     "output_type": "stream",
     "text": [
      "Status code: 403\n",
      "Response: {\"detail\":\"Not authenticated\"}\n"
     ]
    }
   ],
   "source": [
    "import requests as req\n",
    "\n",
    "data = {\n",
    "    \"age\": 42,\n",
    "    \"job\": \"entrepreneur\",\n",
    "    \"marital\": \"married\",\n",
    "    \"education\": \"primary\",\n",
    "    \"balance\": 558,\n",
    "    \"housing\": \"yes\",\n",
    "    \"duration\": 186,\n",
    "    \"campaign\": 2,\n",
    "}\n",
    "\n",
    "resp = req.post(\"http://localhost:8900/predict\", json=data)\n",
    "print(f\"Status code: {resp.status_code}\")\n",
    "print(f\"Response: {resp.text}\")"
   ]
  },
  {
   "cell_type": "code",
   "execution_count": 20,
   "metadata": {},
   "outputs": [
    {
     "name": "stdout",
     "output_type": "stream",
     "text": [
      "500\n",
      "{\"detail\":\"Error loading encoder: No module named 'numpy._core'\"}\n"
     ]
    }
   ],
   "source": [
    "import requests as req\n",
    "import time\n",
    "\n",
    "token = \"abc123\"\n",
    "\n",
    "headers = {\"Authorization\": f\"Bearer {token}\"}\n",
    "\n",
    "data = {\n",
    "    \"age\": 42,\n",
    "    \"job\": \"entrepreneur\",\n",
    "    \"marital\": \"married\",\n",
    "    \"education\": \"primary\",\n",
    "    \"balance\": 558,\n",
    "    \"housing\": \"yes\",\n",
    "    \"duration\": 186,\n",
    "    \"campaign\": 2,\n",
    "}\n",
    "\n",
    "resp = req.post(\"http://localhost:8900/predict\",\n",
    "                json=data,\n",
    "                headers=headers)\n",
    "\n",
    "print(resp.status_code)\n",
    "print(resp.text)"
   ]
  },
  {
   "cell_type": "code",
   "execution_count": null,
   "metadata": {},
   "outputs": [],
   "source": []
  }
 ],
 "metadata": {
  "kernelspec": {
   "display_name": "env",
   "language": "python",
   "name": "python3"
  },
  "language_info": {
   "codemirror_mode": {
    "name": "ipython",
    "version": 3
   },
   "file_extension": ".py",
   "mimetype": "text/x-python",
   "name": "python",
   "nbconvert_exporter": "python",
   "pygments_lexer": "ipython3",
   "version": "3.10.6"
  }
 },
 "nbformat": 4,
 "nbformat_minor": 2
}
